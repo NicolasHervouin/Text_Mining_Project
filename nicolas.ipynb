{
 "cells": [
  {
   "cell_type": "code",
   "execution_count": 7,
   "metadata": {},
   "outputs": [],
   "source": [
    "import googleapiclient.discovery\n",
    "import spacy\n",
    "from spacy_langdetect import LanguageDetector\n",
    "import pandas as pd\n",
    "from spacy.language import Language\n",
    "import re\n",
    "from spacytextblob.spacytextblob import SpacyTextBlob\n",
    "from textblob import TextBlob\n",
    "from wordcloud import WordCloud\n",
    "import matplotlib.pyplot as plt\n",
    "from vaderSentiment.vaderSentiment import SentimentIntensityAnalyzer\n",
    "import emoji\n",
    "\n",
    "import environ\n",
    "\n",
    "from utils.def_api_google import obtenir_infos_video_et_commentaires\n",
    "from utils.def_utils import get_lang_detector, comment_analysis, word_cloud, polarity_plot, subjectivity_plot, polarity_on_vpn\n"
   ]
  },
  {
   "cell_type": "code",
   "execution_count": 8,
   "metadata": {},
   "outputs": [
    {
     "data": {
      "text/plain": [
       "<spacy_langdetect.spacy_langdetect.LanguageDetector at 0x2222e581e90>"
      ]
     },
     "execution_count": 8,
     "metadata": {},
     "output_type": "execute_result"
    }
   ],
   "source": [
    "nlp = spacy.load(\"fr_core_news_sm\")\n",
    "nlp.add_pipe(\"spacytextblob\", last=True)\n",
    "get_lang_detector(nlp, \"language_detector\")\n",
    "nlp.add_pipe(\"language_detector\")"
   ]
  },
  {
   "cell_type": "code",
   "execution_count": 2,
   "metadata": {},
   "outputs": [],
   "source": [
    "env = environ.Env()\n",
    "environ.Env().read_env('.env')\n",
    "\n",
    "API_KEY = env('API_KEY')"
   ]
  },
  {
   "cell_type": "code",
   "execution_count": null,
   "metadata": {},
   "outputs": [],
   "source": [
    "videos_youtubeur_1 = ['woiFO4o3CXI',\n",
    "'7_60w7T1Oak',\n",
    "'coWT9YsAAC0',\n",
    "'L9HzH8v0Now',\n",
    "'N-TCJquxeFk',\n",
    "'qSUE11N1GPM',\n",
    "'8jluurK-E6U',\n",
    "'LyDJTp4nS3w',\n",
    "'LBraVzyYDKg',\n",
    "'tCIIrPEF8Hk']\n",
    "\n",
    "videos_youtubeur_2 = ['bbetYpYH-gI',\n",
    "'iU34s9rbPoE',\n",
    "'x2WASA8bb-I',\n",
    "'JbiBkKy4NFs',\n",
    "'GFnzjrGh3Yc',\n",
    "'XhbECIm1Wa4',\n",
    "'rKRAkNc4OKw',\n",
    "'7a0DayJnGMc',\n",
    "'V9dJEWTjxlM',\n",
    "'dcTAk9ASfIk']"
   ]
  },
  {
   "cell_type": "code",
   "execution_count": null,
   "metadata": {},
   "outputs": [
    {
     "name": "stdout",
     "output_type": "stream",
     "text": [
      "bbetYpYH-gI\n",
      "iU34s9rbPoE\n",
      "x2WASA8bb-I\n",
      "JbiBkKy4NFs\n",
      "GFnzjrGh3Yc\n",
      "XhbECIm1Wa4\n",
      "rKRAkNc4OKw\n",
      "7a0DayJnGMc\n",
      "V9dJEWTjxlM\n",
      "dcTAk9ASfIk\n"
     ]
    }
   ],
   "source": [
    "# On récupère les commentaires des vidéos\n",
    "for i in videos_youtubeur_1:\n",
    "    commentaires_1, infos_video_1 = obtenir_infos_video_et_commentaires(i, API_KEY)  \n",
    "    print(i)\n",
    "\n",
    "for i in videos_youtubeur_2:\n",
    "    commentaires_2, infos_video_2 = obtenir_infos_video_et_commentaires(i, API_KEY)\n",
    "    print(i)"
   ]
  },
  {
   "cell_type": "code",
   "execution_count": null,
   "metadata": {},
   "outputs": [
    {
     "name": "stdout",
     "output_type": "stream",
     "text": [
      "woiFO4o3CXI\n",
      "7_60w7T1Oak\n"
     ]
    }
   ],
   "source": [
    "for i in videos_youtubeur_1:\n",
    "    print(i)\n",
    "    with open(f\"data/comments/{i}.txt\", \"r\", encoding=\"utf-8\") as f:\n",
    "                commentaires = [line.strip() for line in f.readlines()]\n",
    "    commentaires = [c for c in commentaires if c]  # Filter out empty strings and None values\n",
    "    df_commentaires = pd.DataFrame([{'comment': c} for c in commentaires])\n",
    "    df = comment_analysis(df_commentaires,nlp,i)"
   ]
  }
 ],
 "metadata": {
  "kernelspec": {
   "display_name": ".venv",
   "language": "python",
   "name": "python3"
  },
  "language_info": {
   "codemirror_mode": {
    "name": "ipython",
    "version": 3
   },
   "file_extension": ".py",
   "mimetype": "text/x-python",
   "name": "python",
   "nbconvert_exporter": "python",
   "pygments_lexer": "ipython3",
   "version": "3.11.3"
  }
 },
 "nbformat": 4,
 "nbformat_minor": 2
}
