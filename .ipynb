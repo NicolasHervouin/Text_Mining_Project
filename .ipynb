{
 "cells": [
  {
   "cell_type": "code",
   "execution_count": 9,
   "metadata": {},
   "outputs": [
    {
     "ename": "SyntaxError",
     "evalue": "invalid syntax (environ.py, line 114)",
     "output_type": "error",
     "traceback": [
      "Traceback \u001b[1;36m(most recent call last)\u001b[0m:\n",
      "\u001b[0m  File \u001b[0;32mc:\\Users\\hervo\\Documents\\Cours\\M2 MAS\\Text_Mining_Project\\.venv\\Lib\\site-packages\\IPython\\core\\interactiveshell.py:3577\u001b[0m in \u001b[0;35mrun_code\u001b[0m\n    exec(code_obj, self.user_global_ns, self.user_ns)\u001b[0m\n",
      "\u001b[1;36m  Cell \u001b[1;32mIn[9], line 14\u001b[1;36m\n\u001b[1;33m    import environ\u001b[1;36m\n",
      "\u001b[1;36m  File \u001b[1;32mc:\\Users\\hervo\\Documents\\Cours\\M2 MAS\\Text_Mining_Project\\.venv\\Lib\\site-packages\\environ.py:114\u001b[1;36m\u001b[0m\n\u001b[1;33m    raise ValueError, \"No frame marked with %s.\" % fname\u001b[0m\n\u001b[1;37m                    ^\u001b[0m\n\u001b[1;31mSyntaxError\u001b[0m\u001b[1;31m:\u001b[0m invalid syntax\n"
     ]
    }
   ],
   "source": [
    "import googleapiclient.discovery\n",
    "import spacy\n",
    "from spacy_langdetect import LanguageDetector\n",
    "import pandas as pd\n",
    "from spacy.language import Language\n",
    "import re\n",
    "from spacytextblob.spacytextblob import SpacyTextBlob\n",
    "from textblob import TextBlob\n",
    "from wordcloud import WordCloud\n",
    "import matplotlib.pyplot as plt\n",
    "from vaderSentiment.vaderSentiment import SentimentIntensityAnalyzer\n",
    "import emoji\n",
    "\n",
    "import environ\n",
    "\n",
    "from utils.def_api_google import obtenir_infos_video_et_commentaires"
   ]
  },
  {
   "cell_type": "code",
   "execution_count": null,
   "metadata": {},
   "outputs": [],
   "source": [
    "env = environ.Env()\n",
    "environ.Env().read_env('.env')\n",
    "\n",
    "API_KEY = env('API_KEY')"
   ]
  },
  {
   "cell_type": "code",
   "execution_count": null,
   "metadata": {},
   "outputs": [],
   "source": [
    "videos_youtubeur_1 = ['']\n",
    "videos_youtubeur_2 = ['']\n",
    "\n",
    "# On récupère les commentaires des vidéos\n",
    "for i in videos_youtubeur_1:\n",
    "    commentaires_1, infos_video_1 = obtenir_infos_video_et_commentaires(videos_youtubeur_1)\n",
    "    \n",
    "\n",
    "\n",
    "\n",
    "\n",
    "\n",
    "commentaires_2, infos_video_2 = obtenir_infos_video_et_commentaires(videos_youtubeur_2)"
   ]
  }
 ],
 "metadata": {
  "kernelspec": {
   "display_name": ".venv",
   "language": "python",
   "name": "python3"
  },
  "language_info": {
   "codemirror_mode": {
    "name": "ipython",
    "version": 3
   },
   "file_extension": ".py",
   "mimetype": "text/x-python",
   "name": "python",
   "nbconvert_exporter": "python",
   "pygments_lexer": "ipython3",
   "version": "3.11.3"
  }
 },
 "nbformat": 4,
 "nbformat_minor": 2
}
