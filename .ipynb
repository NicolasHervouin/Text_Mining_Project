{
 "cells": [
  {
   "cell_type": "code",
   "execution_count": 1,
   "metadata": {},
   "outputs": [],
   "source": [
    "import googleapiclient.discovery\n",
    "import spacy\n",
    "from spacy_langdetect import LanguageDetector\n",
    "import pandas as pd\n",
    "from spacy.language import Language\n",
    "import re\n",
    "from spacytextblob.spacytextblob import SpacyTextBlob\n",
    "from textblob import TextBlob\n",
    "from wordcloud import WordCloud\n",
    "import matplotlib.pyplot as plt\n",
    "from vaderSentiment.vaderSentiment import SentimentIntensityAnalyzer\n",
    "import emoji\n",
    "\n",
    "import environ\n",
    "\n",
    "from utils.def_api_google import obtenir_infos_video_et_commentaires"
   ]
  },
  {
   "cell_type": "code",
   "execution_count": 2,
   "metadata": {},
   "outputs": [],
   "source": [
    "env = environ.Env()\n",
    "environ.Env().read_env('.env')\n",
    "\n",
    "API_KEY = env('API_KEY')"
   ]
  },
  {
   "cell_type": "code",
   "execution_count": null,
   "metadata": {},
   "outputs": [],
   "source": [
    "videos_youtubeur_1 = ['woiFO4o3CXI',\n",
    "'7_60w7T1Oak',\n",
    "'coWT9YsAAC0',\n",
    "'L9HzH8v0Now',\n",
    "'N-TCJquxeFk',\n",
    "'qSUE11N1GPM',\n",
    "'8jluurK-E6U',\n",
    "'LyDJTp4nS3w',\n",
    "'LBraVzyYDKg',\n",
    "'tCIIrPEF8Hk']\n",
    "\n",
    "videos_youtubeur_2 = ['bbetYpYH-gI',\n",
    "'iU34s9rbPoE',\n",
    "'x2WASA8bb-I',\n",
    "'JbiBkKy4NFs',\n",
    "'GFnzjrGh3Yc',\n",
    "'XhbECIm1Wa4',\n",
    "'rKRAkNc4OKw',\n",
    "'7a0DayJnGMc',\n",
    "'V9dJEWTjxlM',\n",
    "'dcTAk9ASfIk']"
   ]
  },
  {
   "cell_type": "code",
   "execution_count": null,
   "metadata": {},
   "outputs": [
    {
     "name": "stdout",
     "output_type": "stream",
     "text": [
      "woiFO4o3CXI\n",
      "7_60w7T1Oak\n",
      "coWT9YsAAC0\n",
      "L9HzH8v0Now\n",
      "N-TCJquxeFk\n",
      "qSUE11N1GPM\n",
      "8jluurK-E6U\n",
      "LyDJTp4nS3w\n"
     ]
    }
   ],
   "source": [
    "# On récupère les commentaires des vidéos\n",
    "for i in videos_youtubeur_1:\n",
    "    commentaires_1, infos_video_1 = obtenir_infos_video_et_commentaires(i, API_KEY)  \n",
    "    print(i)\n",
    "\n",
    "# for i in videos_youtubeur_2:\n",
    "#     commentaires_2, infos_video_2 = obtenir_infos_video_et_commentaires(i, API_KEY)"
   ]
  }
 ],
 "metadata": {
  "kernelspec": {
   "display_name": ".venv",
   "language": "python",
   "name": "python3"
  },
  "language_info": {
   "codemirror_mode": {
    "name": "ipython",
    "version": 3
   },
   "file_extension": ".py",
   "mimetype": "text/x-python",
   "name": "python",
   "nbconvert_exporter": "python",
   "pygments_lexer": "ipython3",
   "version": "3.11.3"
  }
 },
 "nbformat": 4,
 "nbformat_minor": 2
}
